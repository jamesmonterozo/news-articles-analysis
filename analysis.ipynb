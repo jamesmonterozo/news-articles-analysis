{
 "cells": [
  {
   "attachments": {},
   "cell_type": "markdown",
   "metadata": {},
   "source": [
    "# Outline\n",
    "1. Set-up - Importing of packages and article text\n",
    "2. Text Pre-Processing - Tokenization and cleaning of article text\n",
    "3. Frequency Analysis - Analysis of word and noun phrase frequency for all articles"
   ]
  },
  {
   "attachments": {},
   "cell_type": "markdown",
   "metadata": {},
   "source": [
    "# Set-up\n",
    "\n",
    "The following packages were used to analyze the frequency of words and phrases in the articles:\n",
    "* `newspaper` to extract the content of articles\n",
    "* `nltk` for NLP"
   ]
  },
  {
   "cell_type": "code",
   "execution_count": 42,
   "metadata": {},
   "outputs": [],
   "source": [
    "from newspaper import Article\n",
    "import pandas as pd\n",
    "import numpy as np\n",
    "\n",
    "import matplotlib.pyplot as plt\n",
    "import seaborn as sns\n",
    "sns.set_style('darkgrid')\n",
    "\n",
    "import nltk\n",
    "from nltk import word_tokenize, pos_tag, ne_chunk\n",
    "from nltk import RegexpParser\n",
    "from nltk import Tree\n",
    "import re\n",
    "\n",
    "from sklearn.feature_extraction.text import TfidfVectorizer"
   ]
  },
  {
   "attachments": {},
   "cell_type": "markdown",
   "metadata": {},
   "source": [
    "Note that the program accepts a csv with two rows:\n",
    "1. `title` - the title of the article\n",
    "2. `url` - the url to the article"
   ]
  },
  {
   "cell_type": "code",
   "execution_count": 43,
   "metadata": {},
   "outputs": [
    {
     "data": {
      "text/html": [
       "<div>\n",
       "<style scoped>\n",
       "    .dataframe tbody tr th:only-of-type {\n",
       "        vertical-align: middle;\n",
       "    }\n",
       "\n",
       "    .dataframe tbody tr th {\n",
       "        vertical-align: top;\n",
       "    }\n",
       "\n",
       "    .dataframe thead th {\n",
       "        text-align: right;\n",
       "    }\n",
       "</style>\n",
       "<table border=\"1\" class=\"dataframe\">\n",
       "  <thead>\n",
       "    <tr style=\"text-align: right;\">\n",
       "      <th></th>\n",
       "      <th>title</th>\n",
       "      <th>url</th>\n",
       "    </tr>\n",
       "  </thead>\n",
       "  <tbody>\n",
       "    <tr>\n",
       "      <th>0</th>\n",
       "      <td>Kia Launches EV6 In The Philippines With Compl...</td>\n",
       "      <td>https://cleantechnica.com/2023/04/02/kia-launc...</td>\n",
       "    </tr>\n",
       "    <tr>\n",
       "      <th>1</th>\n",
       "      <td>The Ice Cream, A Small $5000 EV, May Spark Mor...</td>\n",
       "      <td>https://cleantechnica.com/2023/03/10/the-ice-c...</td>\n",
       "    </tr>\n",
       "    <tr>\n",
       "      <th>2</th>\n",
       "      <td>Used Car Market Forecasted to Exhibit an Incre...</td>\n",
       "      <td>https://finance.yahoo.com/news/used-car-market...</td>\n",
       "    </tr>\n",
       "    <tr>\n",
       "      <th>3</th>\n",
       "      <td>Proton X90 full details – same Geely looks, 48...</td>\n",
       "      <td>https://paultan.org/2023/03/29/proton-x90-full...</td>\n",
       "    </tr>\n",
       "    <tr>\n",
       "      <th>4</th>\n",
       "      <td>Electric Scooters to Continue Skyrocketing in ...</td>\n",
       "      <td>https://finance.yahoo.com/news/electric-scoote...</td>\n",
       "    </tr>\n",
       "  </tbody>\n",
       "</table>\n",
       "</div>"
      ],
      "text/plain": [
       "                                               title  \\\n",
       "0  Kia Launches EV6 In The Philippines With Compl...   \n",
       "1  The Ice Cream, A Small $5000 EV, May Spark Mor...   \n",
       "2  Used Car Market Forecasted to Exhibit an Incre...   \n",
       "3  Proton X90 full details – same Geely looks, 48...   \n",
       "4  Electric Scooters to Continue Skyrocketing in ...   \n",
       "\n",
       "                                                 url  \n",
       "0  https://cleantechnica.com/2023/04/02/kia-launc...  \n",
       "1  https://cleantechnica.com/2023/03/10/the-ice-c...  \n",
       "2  https://finance.yahoo.com/news/used-car-market...  \n",
       "3  https://paultan.org/2023/03/29/proton-x90-full...  \n",
       "4  https://finance.yahoo.com/news/electric-scoote...  "
      ]
     },
     "execution_count": 43,
     "metadata": {},
     "output_type": "execute_result"
    }
   ],
   "source": [
    "df = pd.read_csv('articles.csv')\n",
    "df.head()"
   ]
  },
  {
   "attachments": {},
   "cell_type": "markdown",
   "metadata": {},
   "source": [
    "## News Article Scraping\n",
    "The `newspaper` package is used to scrape the content of news articles and add the texts to the dataframe. If the `Article()` function is unable to access the website, the row is left null and eventually dropped from the dataset."
   ]
  },
  {
   "cell_type": "code",
   "execution_count": 44,
   "metadata": {},
   "outputs": [],
   "source": [
    "def get_content(x):\n",
    "    url = x['url']\n",
    "    try:\n",
    "        page = Article(url, language='en')\n",
    "        page.download()\n",
    "        page.parse()\n",
    "        return page.text\n",
    "    except:\n",
    "        return np.nan"
   ]
  },
  {
   "cell_type": "code",
   "execution_count": 45,
   "metadata": {},
   "outputs": [
    {
     "data": {
      "text/html": [
       "<div>\n",
       "<style scoped>\n",
       "    .dataframe tbody tr th:only-of-type {\n",
       "        vertical-align: middle;\n",
       "    }\n",
       "\n",
       "    .dataframe tbody tr th {\n",
       "        vertical-align: top;\n",
       "    }\n",
       "\n",
       "    .dataframe thead th {\n",
       "        text-align: right;\n",
       "    }\n",
       "</style>\n",
       "<table border=\"1\" class=\"dataframe\">\n",
       "  <thead>\n",
       "    <tr style=\"text-align: right;\">\n",
       "      <th></th>\n",
       "      <th>title</th>\n",
       "      <th>url</th>\n",
       "      <th>text</th>\n",
       "    </tr>\n",
       "  </thead>\n",
       "  <tbody>\n",
       "    <tr>\n",
       "      <th>0</th>\n",
       "      <td>Kia Launches EV6 In The Philippines With Compl...</td>\n",
       "      <td>https://cleantechnica.com/2023/04/02/kia-launc...</td>\n",
       "      <td>It is Kia Motors Philippines’ belief that in o...</td>\n",
       "    </tr>\n",
       "    <tr>\n",
       "      <th>1</th>\n",
       "      <td>The Ice Cream, A Small $5000 EV, May Spark Mor...</td>\n",
       "      <td>https://cleantechnica.com/2023/03/10/the-ice-c...</td>\n",
       "      <td>The Ice Cream, a popular small footprint elect...</td>\n",
       "    </tr>\n",
       "    <tr>\n",
       "      <th>2</th>\n",
       "      <td>Used Car Market Forecasted to Exhibit an Incre...</td>\n",
       "      <td>https://finance.yahoo.com/news/used-car-market...</td>\n",
       "      <td>Data Bridge Market Research\\n\\nData Bridge Mar...</td>\n",
       "    </tr>\n",
       "    <tr>\n",
       "      <th>3</th>\n",
       "      <td>Proton X90 full details – same Geely looks, 48...</td>\n",
       "      <td>https://paultan.org/2023/03/29/proton-x90-full...</td>\n",
       "      <td>In Cars, Local News, Proton, Videos / By Hafri...</td>\n",
       "    </tr>\n",
       "    <tr>\n",
       "      <th>4</th>\n",
       "      <td>Electric Scooters to Continue Skyrocketing in ...</td>\n",
       "      <td>https://finance.yahoo.com/news/electric-scoote...</td>\n",
       "      <td>BOSTON, April 6, 2023 /PRNewswire/ --\\n\\nTwo-W...</td>\n",
       "    </tr>\n",
       "  </tbody>\n",
       "</table>\n",
       "</div>"
      ],
      "text/plain": [
       "                                               title  \\\n",
       "0  Kia Launches EV6 In The Philippines With Compl...   \n",
       "1  The Ice Cream, A Small $5000 EV, May Spark Mor...   \n",
       "2  Used Car Market Forecasted to Exhibit an Incre...   \n",
       "3  Proton X90 full details – same Geely looks, 48...   \n",
       "4  Electric Scooters to Continue Skyrocketing in ...   \n",
       "\n",
       "                                                 url  \\\n",
       "0  https://cleantechnica.com/2023/04/02/kia-launc...   \n",
       "1  https://cleantechnica.com/2023/03/10/the-ice-c...   \n",
       "2  https://finance.yahoo.com/news/used-car-market...   \n",
       "3  https://paultan.org/2023/03/29/proton-x90-full...   \n",
       "4  https://finance.yahoo.com/news/electric-scoote...   \n",
       "\n",
       "                                                text  \n",
       "0  It is Kia Motors Philippines’ belief that in o...  \n",
       "1  The Ice Cream, a popular small footprint elect...  \n",
       "2  Data Bridge Market Research\\n\\nData Bridge Mar...  \n",
       "3  In Cars, Local News, Proton, Videos / By Hafri...  \n",
       "4  BOSTON, April 6, 2023 /PRNewswire/ --\\n\\nTwo-W...  "
      ]
     },
     "execution_count": 45,
     "metadata": {},
     "output_type": "execute_result"
    }
   ],
   "source": [
    "df['text'] = df.apply(get_content, axis=1)\n",
    "df.head()"
   ]
  },
  {
   "cell_type": "code",
   "execution_count": 46,
   "metadata": {},
   "outputs": [
    {
     "name": "stdout",
     "output_type": "stream",
     "text": [
      "<class 'pandas.core.frame.DataFrame'>\n",
      "RangeIndex: 21 entries, 0 to 20\n",
      "Data columns (total 3 columns):\n",
      " #   Column  Non-Null Count  Dtype \n",
      "---  ------  --------------  ----- \n",
      " 0   title   21 non-null     object\n",
      " 1   url     21 non-null     object\n",
      " 2   text    20 non-null     object\n",
      "dtypes: object(3)\n",
      "memory usage: 632.0+ bytes\n"
     ]
    },
    {
     "data": {
      "text/plain": [
       "None"
      ]
     },
     "metadata": {},
     "output_type": "display_data"
    },
    {
     "name": "stdout",
     "output_type": "stream",
     "text": [
      "<class 'pandas.core.frame.DataFrame'>\n",
      "Int64Index: 20 entries, 0 to 20\n",
      "Data columns (total 2 columns):\n",
      " #   Column  Non-Null Count  Dtype \n",
      "---  ------  --------------  ----- \n",
      " 0   title   20 non-null     object\n",
      " 1   text    20 non-null     object\n",
      "dtypes: object(2)\n",
      "memory usage: 480.0+ bytes\n"
     ]
    },
    {
     "data": {
      "text/plain": [
       "None"
      ]
     },
     "metadata": {},
     "output_type": "display_data"
    }
   ],
   "source": [
    "display(df.info())\n",
    "df = df.dropna()\n",
    "df = df[['title', 'text']]\n",
    "display(df.info())"
   ]
  },
  {
   "attachments": {},
   "cell_type": "markdown",
   "metadata": {},
   "source": [
    "# Text Pre-Processing\n",
    "The text is first tokenized (separated into words) then stop words (\"the\", \"is\", \"an\", etc.) are removed."
   ]
  },
  {
   "attachments": {},
   "cell_type": "markdown",
   "metadata": {},
   "source": [
    "## Tokenizing\n",
    "The text is tokenized using two methods: `nltk.word_tokenize` and `re.findall`. The latter was preferred since the former was unable to remove punctuations."
   ]
  },
  {
   "cell_type": "code",
   "execution_count": 47,
   "metadata": {},
   "outputs": [
    {
     "data": {
      "text/html": [
       "<div>\n",
       "<style scoped>\n",
       "    .dataframe tbody tr th:only-of-type {\n",
       "        vertical-align: middle;\n",
       "    }\n",
       "\n",
       "    .dataframe tbody tr th {\n",
       "        vertical-align: top;\n",
       "    }\n",
       "\n",
       "    .dataframe thead th {\n",
       "        text-align: right;\n",
       "    }\n",
       "</style>\n",
       "<table border=\"1\" class=\"dataframe\">\n",
       "  <thead>\n",
       "    <tr style=\"text-align: right;\">\n",
       "      <th></th>\n",
       "      <th>title</th>\n",
       "      <th>text</th>\n",
       "      <th>tokenized</th>\n",
       "    </tr>\n",
       "  </thead>\n",
       "  <tbody>\n",
       "    <tr>\n",
       "      <th>0</th>\n",
       "      <td>Kia Launches EV6 In The Philippines With Compl...</td>\n",
       "      <td>It is Kia Motors Philippines’ belief that in o...</td>\n",
       "      <td>[It, is, Kia, Motors, Philippines, ’, belief, ...</td>\n",
       "    </tr>\n",
       "    <tr>\n",
       "      <th>1</th>\n",
       "      <td>The Ice Cream, A Small $5000 EV, May Spark Mor...</td>\n",
       "      <td>The Ice Cream, a popular small footprint elect...</td>\n",
       "      <td>[The, Ice, Cream, ,, a, popular, small, footpr...</td>\n",
       "    </tr>\n",
       "    <tr>\n",
       "      <th>2</th>\n",
       "      <td>Used Car Market Forecasted to Exhibit an Incre...</td>\n",
       "      <td>Data Bridge Market Research\\n\\nData Bridge Mar...</td>\n",
       "      <td>[Data, Bridge, Market, Research, Data, Bridge,...</td>\n",
       "    </tr>\n",
       "    <tr>\n",
       "      <th>3</th>\n",
       "      <td>Proton X90 full details – same Geely looks, 48...</td>\n",
       "      <td>In Cars, Local News, Proton, Videos / By Hafri...</td>\n",
       "      <td>[In, Cars, ,, Local, News, ,, Proton, ,, Video...</td>\n",
       "    </tr>\n",
       "    <tr>\n",
       "      <th>4</th>\n",
       "      <td>Electric Scooters to Continue Skyrocketing in ...</td>\n",
       "      <td>BOSTON, April 6, 2023 /PRNewswire/ --\\n\\nTwo-W...</td>\n",
       "      <td>[BOSTON, ,, April, 6, ,, 2023, /PRNewswire/, -...</td>\n",
       "    </tr>\n",
       "  </tbody>\n",
       "</table>\n",
       "</div>"
      ],
      "text/plain": [
       "                                               title  \\\n",
       "0  Kia Launches EV6 In The Philippines With Compl...   \n",
       "1  The Ice Cream, A Small $5000 EV, May Spark Mor...   \n",
       "2  Used Car Market Forecasted to Exhibit an Incre...   \n",
       "3  Proton X90 full details – same Geely looks, 48...   \n",
       "4  Electric Scooters to Continue Skyrocketing in ...   \n",
       "\n",
       "                                                text  \\\n",
       "0  It is Kia Motors Philippines’ belief that in o...   \n",
       "1  The Ice Cream, a popular small footprint elect...   \n",
       "2  Data Bridge Market Research\\n\\nData Bridge Mar...   \n",
       "3  In Cars, Local News, Proton, Videos / By Hafri...   \n",
       "4  BOSTON, April 6, 2023 /PRNewswire/ --\\n\\nTwo-W...   \n",
       "\n",
       "                                           tokenized  \n",
       "0  [It, is, Kia, Motors, Philippines, ’, belief, ...  \n",
       "1  [The, Ice, Cream, ,, a, popular, small, footpr...  \n",
       "2  [Data, Bridge, Market, Research, Data, Bridge,...  \n",
       "3  [In, Cars, ,, Local, News, ,, Proton, ,, Video...  \n",
       "4  [BOSTON, ,, April, 6, ,, 2023, /PRNewswire/, -...  "
      ]
     },
     "execution_count": 47,
     "metadata": {},
     "output_type": "execute_result"
    }
   ],
   "source": [
    "df['tokenized'] = df.apply(lambda row: nltk.word_tokenize(row['text']), axis=1)\n",
    "df.head()"
   ]
  },
  {
   "cell_type": "code",
   "execution_count": 48,
   "metadata": {},
   "outputs": [
    {
     "data": {
      "text/html": [
       "<div>\n",
       "<style scoped>\n",
       "    .dataframe tbody tr th:only-of-type {\n",
       "        vertical-align: middle;\n",
       "    }\n",
       "\n",
       "    .dataframe tbody tr th {\n",
       "        vertical-align: top;\n",
       "    }\n",
       "\n",
       "    .dataframe thead th {\n",
       "        text-align: right;\n",
       "    }\n",
       "</style>\n",
       "<table border=\"1\" class=\"dataframe\">\n",
       "  <thead>\n",
       "    <tr style=\"text-align: right;\">\n",
       "      <th></th>\n",
       "      <th>title</th>\n",
       "      <th>text</th>\n",
       "      <th>tokenized</th>\n",
       "      <th>tokenized_re</th>\n",
       "    </tr>\n",
       "  </thead>\n",
       "  <tbody>\n",
       "    <tr>\n",
       "      <th>0</th>\n",
       "      <td>Kia Launches EV6 In The Philippines With Compl...</td>\n",
       "      <td>It is Kia Motors Philippines’ belief that in o...</td>\n",
       "      <td>[It, is, Kia, Motors, Philippines, ’, belief, ...</td>\n",
       "      <td>[It, is, Kia, Motors, Philippines, belief, tha...</td>\n",
       "    </tr>\n",
       "    <tr>\n",
       "      <th>1</th>\n",
       "      <td>The Ice Cream, A Small $5000 EV, May Spark Mor...</td>\n",
       "      <td>The Ice Cream, a popular small footprint elect...</td>\n",
       "      <td>[The, Ice, Cream, ,, a, popular, small, footpr...</td>\n",
       "      <td>[The, Ice, Cream, a, popular, small, footprint...</td>\n",
       "    </tr>\n",
       "    <tr>\n",
       "      <th>2</th>\n",
       "      <td>Used Car Market Forecasted to Exhibit an Incre...</td>\n",
       "      <td>Data Bridge Market Research\\n\\nData Bridge Mar...</td>\n",
       "      <td>[Data, Bridge, Market, Research, Data, Bridge,...</td>\n",
       "      <td>[Data, Bridge, Market, Research, Data, Bridge,...</td>\n",
       "    </tr>\n",
       "    <tr>\n",
       "      <th>3</th>\n",
       "      <td>Proton X90 full details – same Geely looks, 48...</td>\n",
       "      <td>In Cars, Local News, Proton, Videos / By Hafri...</td>\n",
       "      <td>[In, Cars, ,, Local, News, ,, Proton, ,, Video...</td>\n",
       "      <td>[In, Cars, Local, News, Proton, Videos, By, Ha...</td>\n",
       "    </tr>\n",
       "    <tr>\n",
       "      <th>4</th>\n",
       "      <td>Electric Scooters to Continue Skyrocketing in ...</td>\n",
       "      <td>BOSTON, April 6, 2023 /PRNewswire/ --\\n\\nTwo-W...</td>\n",
       "      <td>[BOSTON, ,, April, 6, ,, 2023, /PRNewswire/, -...</td>\n",
       "      <td>[BOSTON, April, 6, 2023, PRNewswire, Two, Whee...</td>\n",
       "    </tr>\n",
       "  </tbody>\n",
       "</table>\n",
       "</div>"
      ],
      "text/plain": [
       "                                               title  \\\n",
       "0  Kia Launches EV6 In The Philippines With Compl...   \n",
       "1  The Ice Cream, A Small $5000 EV, May Spark Mor...   \n",
       "2  Used Car Market Forecasted to Exhibit an Incre...   \n",
       "3  Proton X90 full details – same Geely looks, 48...   \n",
       "4  Electric Scooters to Continue Skyrocketing in ...   \n",
       "\n",
       "                                                text  \\\n",
       "0  It is Kia Motors Philippines’ belief that in o...   \n",
       "1  The Ice Cream, a popular small footprint elect...   \n",
       "2  Data Bridge Market Research\\n\\nData Bridge Mar...   \n",
       "3  In Cars, Local News, Proton, Videos / By Hafri...   \n",
       "4  BOSTON, April 6, 2023 /PRNewswire/ --\\n\\nTwo-W...   \n",
       "\n",
       "                                           tokenized  \\\n",
       "0  [It, is, Kia, Motors, Philippines, ’, belief, ...   \n",
       "1  [The, Ice, Cream, ,, a, popular, small, footpr...   \n",
       "2  [Data, Bridge, Market, Research, Data, Bridge,...   \n",
       "3  [In, Cars, ,, Local, News, ,, Proton, ,, Video...   \n",
       "4  [BOSTON, ,, April, 6, ,, 2023, /PRNewswire/, -...   \n",
       "\n",
       "                                        tokenized_re  \n",
       "0  [It, is, Kia, Motors, Philippines, belief, tha...  \n",
       "1  [The, Ice, Cream, a, popular, small, footprint...  \n",
       "2  [Data, Bridge, Market, Research, Data, Bridge,...  \n",
       "3  [In, Cars, Local, News, Proton, Videos, By, Ha...  \n",
       "4  [BOSTON, April, 6, 2023, PRNewswire, Two, Whee...  "
      ]
     },
     "execution_count": 48,
     "metadata": {},
     "output_type": "execute_result"
    }
   ],
   "source": [
    "df['tokenized_re'] = df.apply(lambda row: re.findall('\\w+', row['text']), axis=1)\n",
    "df.head()"
   ]
  },
  {
   "attachments": {},
   "cell_type": "markdown",
   "metadata": {},
   "source": [
    "## Removal of Stopwords\n",
    "The `stopwords` dataset of stopwords from `nltk.corpus` is used to remove stopwords from the tokens."
   ]
  },
  {
   "cell_type": "code",
   "execution_count": 49,
   "metadata": {},
   "outputs": [
    {
     "name": "stderr",
     "output_type": "stream",
     "text": [
      "[nltk_data] Downloading package stopwords to\n",
      "[nltk_data]     C:\\Users\\Clar\\AppData\\Roaming\\nltk_data...\n",
      "[nltk_data]   Package stopwords is already up-to-date!\n"
     ]
    }
   ],
   "source": [
    "nltk.download('stopwords')\n",
    "sw = nltk.corpus.stopwords.words('english')"
   ]
  },
  {
   "cell_type": "code",
   "execution_count": 50,
   "metadata": {},
   "outputs": [
    {
     "data": {
      "text/html": [
       "<div>\n",
       "<style scoped>\n",
       "    .dataframe tbody tr th:only-of-type {\n",
       "        vertical-align: middle;\n",
       "    }\n",
       "\n",
       "    .dataframe tbody tr th {\n",
       "        vertical-align: top;\n",
       "    }\n",
       "\n",
       "    .dataframe thead th {\n",
       "        text-align: right;\n",
       "    }\n",
       "</style>\n",
       "<table border=\"1\" class=\"dataframe\">\n",
       "  <thead>\n",
       "    <tr style=\"text-align: right;\">\n",
       "      <th></th>\n",
       "      <th>title</th>\n",
       "      <th>text</th>\n",
       "      <th>tokenized</th>\n",
       "      <th>tokenized_re</th>\n",
       "      <th>cleaned_tokens</th>\n",
       "    </tr>\n",
       "  </thead>\n",
       "  <tbody>\n",
       "    <tr>\n",
       "      <th>0</th>\n",
       "      <td>Kia Launches EV6 In The Philippines With Compl...</td>\n",
       "      <td>It is Kia Motors Philippines’ belief that in o...</td>\n",
       "      <td>[It, is, Kia, Motors, Philippines, ’, belief, ...</td>\n",
       "      <td>[It, is, Kia, Motors, Philippines, belief, tha...</td>\n",
       "      <td>[Kia, Motors, Philippines, belief, order, prom...</td>\n",
       "    </tr>\n",
       "    <tr>\n",
       "      <th>1</th>\n",
       "      <td>The Ice Cream, A Small $5000 EV, May Spark Mor...</td>\n",
       "      <td>The Ice Cream, a popular small footprint elect...</td>\n",
       "      <td>[The, Ice, Cream, ,, a, popular, small, footpr...</td>\n",
       "      <td>[The, Ice, Cream, a, popular, small, footprint...</td>\n",
       "      <td>[Ice, Cream, popular, small, footprint, electr...</td>\n",
       "    </tr>\n",
       "    <tr>\n",
       "      <th>2</th>\n",
       "      <td>Used Car Market Forecasted to Exhibit an Incre...</td>\n",
       "      <td>Data Bridge Market Research\\n\\nData Bridge Mar...</td>\n",
       "      <td>[Data, Bridge, Market, Research, Data, Bridge,...</td>\n",
       "      <td>[Data, Bridge, Market, Research, Data, Bridge,...</td>\n",
       "      <td>[Data, Bridge, Market, Research, Data, Bridge,...</td>\n",
       "    </tr>\n",
       "    <tr>\n",
       "      <th>3</th>\n",
       "      <td>Proton X90 full details – same Geely looks, 48...</td>\n",
       "      <td>In Cars, Local News, Proton, Videos / By Hafri...</td>\n",
       "      <td>[In, Cars, ,, Local, News, ,, Proton, ,, Video...</td>\n",
       "      <td>[In, Cars, Local, News, Proton, Videos, By, Ha...</td>\n",
       "      <td>[Cars, Local, News, Proton, Videos, Hafriz, Sh...</td>\n",
       "    </tr>\n",
       "    <tr>\n",
       "      <th>4</th>\n",
       "      <td>Electric Scooters to Continue Skyrocketing in ...</td>\n",
       "      <td>BOSTON, April 6, 2023 /PRNewswire/ --\\n\\nTwo-W...</td>\n",
       "      <td>[BOSTON, ,, April, 6, ,, 2023, /PRNewswire/, -...</td>\n",
       "      <td>[BOSTON, April, 6, 2023, PRNewswire, Two, Whee...</td>\n",
       "      <td>[BOSTON, April, 6, 2023, PRNewswire, Two, Whee...</td>\n",
       "    </tr>\n",
       "  </tbody>\n",
       "</table>\n",
       "</div>"
      ],
      "text/plain": [
       "                                               title  \\\n",
       "0  Kia Launches EV6 In The Philippines With Compl...   \n",
       "1  The Ice Cream, A Small $5000 EV, May Spark Mor...   \n",
       "2  Used Car Market Forecasted to Exhibit an Incre...   \n",
       "3  Proton X90 full details – same Geely looks, 48...   \n",
       "4  Electric Scooters to Continue Skyrocketing in ...   \n",
       "\n",
       "                                                text  \\\n",
       "0  It is Kia Motors Philippines’ belief that in o...   \n",
       "1  The Ice Cream, a popular small footprint elect...   \n",
       "2  Data Bridge Market Research\\n\\nData Bridge Mar...   \n",
       "3  In Cars, Local News, Proton, Videos / By Hafri...   \n",
       "4  BOSTON, April 6, 2023 /PRNewswire/ --\\n\\nTwo-W...   \n",
       "\n",
       "                                           tokenized  \\\n",
       "0  [It, is, Kia, Motors, Philippines, ’, belief, ...   \n",
       "1  [The, Ice, Cream, ,, a, popular, small, footpr...   \n",
       "2  [Data, Bridge, Market, Research, Data, Bridge,...   \n",
       "3  [In, Cars, ,, Local, News, ,, Proton, ,, Video...   \n",
       "4  [BOSTON, ,, April, 6, ,, 2023, /PRNewswire/, -...   \n",
       "\n",
       "                                        tokenized_re  \\\n",
       "0  [It, is, Kia, Motors, Philippines, belief, tha...   \n",
       "1  [The, Ice, Cream, a, popular, small, footprint...   \n",
       "2  [Data, Bridge, Market, Research, Data, Bridge,...   \n",
       "3  [In, Cars, Local, News, Proton, Videos, By, Ha...   \n",
       "4  [BOSTON, April, 6, 2023, PRNewswire, Two, Whee...   \n",
       "\n",
       "                                      cleaned_tokens  \n",
       "0  [Kia, Motors, Philippines, belief, order, prom...  \n",
       "1  [Ice, Cream, popular, small, footprint, electr...  \n",
       "2  [Data, Bridge, Market, Research, Data, Bridge,...  \n",
       "3  [Cars, Local, News, Proton, Videos, Hafriz, Sh...  \n",
       "4  [BOSTON, April, 6, 2023, PRNewswire, Two, Whee...  "
      ]
     },
     "execution_count": 50,
     "metadata": {},
     "output_type": "execute_result"
    }
   ],
   "source": [
    "from collections import deque\n",
    "def rem_sw(row):\n",
    "    out = deque()\n",
    "    for r in row['tokenized_re']:\n",
    "        if not r.lower() in sw:\n",
    "            out.append(r)\n",
    "    return list(out)\n",
    "\n",
    "df['cleaned_tokens'] = df.apply(rem_sw, axis=1)\n",
    "df.head()"
   ]
  },
  {
   "attachments": {},
   "cell_type": "markdown",
   "metadata": {},
   "source": [
    "# Frequency Analysis\n",
    "Finally, the cleaned tokens are subjected to word frequency analysis and noun-phrase frequency analysis."
   ]
  },
  {
   "attachments": {},
   "cell_type": "markdown",
   "metadata": {},
   "source": [
    "## Word Frequency\n",
    "The `FreqDist` function from the `nltk` package was used to obtain word frequencies. The top $20$ words are then plotted."
   ]
  },
  {
   "cell_type": "code",
   "execution_count": 51,
   "metadata": {},
   "outputs": [
    {
     "data": {
      "image/png": "[encoded data removed]",
      "text/plain": [
       "<Figure size 640x480 with 1 Axes>"
      ]
     },
     "metadata": {},
     "output_type": "display_data"
    },
    {
     "data": {
      "text/plain": [
       "<AxesSubplot: xlabel='Samples', ylabel='Counts'>"
      ]
     },
     "execution_count": 51,
     "metadata": {},
     "output_type": "execute_result"
    }
   ],
   "source": [
    "allwords = []\n",
    "for row in df['cleaned_tokens']:\n",
    "    allwords += row\n",
    "\n",
    "freq = nltk.FreqDist(allwords)\n",
    "freq.plot(20)"
   ]
  },
  {
   "attachments": {},
   "cell_type": "markdown",
   "metadata": {},
   "source": [
    "## Noun Phrase Frequency\n",
    "The text is first tokenized as with before, but, this time, noun phrases are accounted for. This might add additional context needed for coding."
   ]
  },
  {
   "cell_type": "code",
   "execution_count": 52,
   "metadata": {},
   "outputs": [
    {
     "data": {
      "text/html": [
       "<div>\n",
       "<style scoped>\n",
       "    .dataframe tbody tr th:only-of-type {\n",
       "        vertical-align: middle;\n",
       "    }\n",
       "\n",
       "    .dataframe tbody tr th {\n",
       "        vertical-align: top;\n",
       "    }\n",
       "\n",
       "    .dataframe thead th {\n",
       "        text-align: right;\n",
       "    }\n",
       "</style>\n",
       "<table border=\"1\" class=\"dataframe\">\n",
       "  <thead>\n",
       "    <tr style=\"text-align: right;\">\n",
       "      <th></th>\n",
       "      <th>title</th>\n",
       "      <th>text</th>\n",
       "      <th>tokenized</th>\n",
       "      <th>tokenized_re</th>\n",
       "      <th>cleaned_tokens</th>\n",
       "    </tr>\n",
       "  </thead>\n",
       "  <tbody>\n",
       "    <tr>\n",
       "      <th>0</th>\n",
       "      <td>Kia Launches EV6 In The Philippines With Compl...</td>\n",
       "      <td>It is Kia Motors Philippines’ belief that in o...</td>\n",
       "      <td>[It, is, Kia, Motors, Philippines, ’, belief, ...</td>\n",
       "      <td>[It, is, Kia, Motors, Philippines, belief, tha...</td>\n",
       "      <td>[Kia, Motors, Philippines, belief, order, prom...</td>\n",
       "    </tr>\n",
       "    <tr>\n",
       "      <th>1</th>\n",
       "      <td>The Ice Cream, A Small $5000 EV, May Spark Mor...</td>\n",
       "      <td>The Ice Cream, a popular small footprint elect...</td>\n",
       "      <td>[The, Ice, Cream, ,, a, popular, small, footpr...</td>\n",
       "      <td>[The, Ice, Cream, a, popular, small, footprint...</td>\n",
       "      <td>[Ice, Cream, popular, small, footprint, electr...</td>\n",
       "    </tr>\n",
       "    <tr>\n",
       "      <th>2</th>\n",
       "      <td>Used Car Market Forecasted to Exhibit an Incre...</td>\n",
       "      <td>Data Bridge Market Research\\n\\nData Bridge Mar...</td>\n",
       "      <td>[Data, Bridge, Market, Research, Data, Bridge,...</td>\n",
       "      <td>[Data, Bridge, Market, Research, Data, Bridge,...</td>\n",
       "      <td>[Data, Bridge, Market, Research, Data, Bridge,...</td>\n",
       "    </tr>\n",
       "    <tr>\n",
       "      <th>3</th>\n",
       "      <td>Proton X90 full details – same Geely looks, 48...</td>\n",
       "      <td>In Cars, Local News, Proton, Videos / By Hafri...</td>\n",
       "      <td>[In, Cars, ,, Local, News, ,, Proton, ,, Video...</td>\n",
       "      <td>[In, Cars, Local, News, Proton, Videos, By, Ha...</td>\n",
       "      <td>[Cars, Local, News, Proton, Videos, Hafriz, Sh...</td>\n",
       "    </tr>\n",
       "    <tr>\n",
       "      <th>4</th>\n",
       "      <td>Electric Scooters to Continue Skyrocketing in ...</td>\n",
       "      <td>BOSTON, April 6, 2023 /PRNewswire/ --\\n\\nTwo-W...</td>\n",
       "      <td>[BOSTON, ,, April, 6, ,, 2023, /PRNewswire/, -...</td>\n",
       "      <td>[BOSTON, April, 6, 2023, PRNewswire, Two, Whee...</td>\n",
       "      <td>[BOSTON, April, 6, 2023, PRNewswire, Two, Whee...</td>\n",
       "    </tr>\n",
       "  </tbody>\n",
       "</table>\n",
       "</div>"
      ],
      "text/plain": [
       "                                               title  \\\n",
       "0  Kia Launches EV6 In The Philippines With Compl...   \n",
       "1  The Ice Cream, A Small $5000 EV, May Spark Mor...   \n",
       "2  Used Car Market Forecasted to Exhibit an Incre...   \n",
       "3  Proton X90 full details – same Geely looks, 48...   \n",
       "4  Electric Scooters to Continue Skyrocketing in ...   \n",
       "\n",
       "                                                text  \\\n",
       "0  It is Kia Motors Philippines’ belief that in o...   \n",
       "1  The Ice Cream, a popular small footprint elect...   \n",
       "2  Data Bridge Market Research\\n\\nData Bridge Mar...   \n",
       "3  In Cars, Local News, Proton, Videos / By Hafri...   \n",
       "4  BOSTON, April 6, 2023 /PRNewswire/ --\\n\\nTwo-W...   \n",
       "\n",
       "                                           tokenized  \\\n",
       "0  [It, is, Kia, Motors, Philippines, ’, belief, ...   \n",
       "1  [The, Ice, Cream, ,, a, popular, small, footpr...   \n",
       "2  [Data, Bridge, Market, Research, Data, Bridge,...   \n",
       "3  [In, Cars, ,, Local, News, ,, Proton, ,, Video...   \n",
       "4  [BOSTON, ,, April, 6, ,, 2023, /PRNewswire/, -...   \n",
       "\n",
       "                                        tokenized_re  \\\n",
       "0  [It, is, Kia, Motors, Philippines, belief, tha...   \n",
       "1  [The, Ice, Cream, a, popular, small, footprint...   \n",
       "2  [Data, Bridge, Market, Research, Data, Bridge,...   \n",
       "3  [In, Cars, Local, News, Proton, Videos, By, Ha...   \n",
       "4  [BOSTON, April, 6, 2023, PRNewswire, Two, Whee...   \n",
       "\n",
       "                                      cleaned_tokens  \n",
       "0  [Kia, Motors, Philippines, belief, order, prom...  \n",
       "1  [Ice, Cream, popular, small, footprint, electr...  \n",
       "2  [Data, Bridge, Market, Research, Data, Bridge,...  \n",
       "3  [Cars, Local, News, Proton, Videos, Hafriz, Sh...  \n",
       "4  [BOSTON, April, 6, 2023, PRNewswire, Two, Whee...  "
      ]
     },
     "execution_count": 52,
     "metadata": {},
     "output_type": "execute_result"
    }
   ],
   "source": [
    "# Defining a grammar & Parser\n",
    "NP = \"NP: {(<V\\w+>|<NN\\w?>)+.*<NN\\w?>}\"\n",
    "chunker = RegexpParser(NP)\n",
    "\n",
    "def get_continuous_chunks(text, chunk_func=ne_chunk):\n",
    "    chunked = chunk_func(pos_tag(word_tokenize(text)))\n",
    "    continuous_chunk = []\n",
    "    current_chunk = []\n",
    "\n",
    "    for subtree in chunked:\n",
    "        if type(subtree) == Tree:\n",
    "            current_chunk.append(\" \".join([token for token, pos in subtree.leaves()]))\n",
    "        elif current_chunk:\n",
    "            named_entity = \" \".join(current_chunk)\n",
    "            if named_entity not in continuous_chunk:\n",
    "                continuous_chunk.append(named_entity)\n",
    "                current_chunk = []\n",
    "        else:\n",
    "            continue\n",
    "\n",
    "    return continuous_chunk\n",
    "\n",
    "df['text'].apply(lambda sent: get_continuous_chunks(sent, chunker.parse))\n",
    "df.head()"
   ]
  },
  {
   "cell_type": "code",
   "execution_count": 53,
   "metadata": {},
   "outputs": [
    {
     "ename": "KeyError",
     "evalue": "'chunk_tokens'",
     "output_type": "error",
     "traceback": [
      "\u001b[1;31m---------------------------------------------------------------------------\u001b[0m",
      "\u001b[1;31mKeyError\u001b[0m                                  Traceback (most recent call last)",
      "\u001b[1;32mc:\\Users\\Clar\\anaconda3\\envs\\canvas_data\\lib\\site-packages\\pandas\\core\\indexes\\base.py\u001b[0m in \u001b[0;36mget_loc\u001b[1;34m(self, key, method, tolerance)\u001b[0m\n\u001b[0;32m   3802\u001b[0m             \u001b[1;32mtry\u001b[0m\u001b[1;33m:\u001b[0m\u001b[1;33m\u001b[0m\u001b[1;33m\u001b[0m\u001b[0m\n\u001b[1;32m-> 3803\u001b[1;33m                 \u001b[1;32mreturn\u001b[0m \u001b[0mself\u001b[0m\u001b[1;33m.\u001b[0m\u001b[0m_engine\u001b[0m\u001b[1;33m.\u001b[0m\u001b[0mget_loc\u001b[0m\u001b[1;33m(\u001b[0m\u001b[0mcasted_key\u001b[0m\u001b[1;33m)\u001b[0m\u001b[1;33m\u001b[0m\u001b[1;33m\u001b[0m\u001b[0m\n\u001b[0m\u001b[0;32m   3804\u001b[0m             \u001b[1;32mexcept\u001b[0m \u001b[0mKeyError\u001b[0m \u001b[1;32mas\u001b[0m \u001b[0merr\u001b[0m\u001b[1;33m:\u001b[0m\u001b[1;33m\u001b[0m\u001b[1;33m\u001b[0m\u001b[0m\n",
      "\u001b[1;32mc:\\Users\\Clar\\anaconda3\\envs\\canvas_data\\lib\\site-packages\\pandas\\_libs\\index.pyx\u001b[0m in \u001b[0;36mpandas._libs.index.IndexEngine.get_loc\u001b[1;34m()\u001b[0m\n",
      "\u001b[1;32mc:\\Users\\Clar\\anaconda3\\envs\\canvas_data\\lib\\site-packages\\pandas\\_libs\\index.pyx\u001b[0m in \u001b[0;36mpandas._libs.index.IndexEngine.get_loc\u001b[1;34m()\u001b[0m\n",
      "\u001b[1;32mpandas\\_libs\\hashtable_class_helper.pxi\u001b[0m in \u001b[0;36mpandas._libs.hashtable.PyObjectHashTable.get_item\u001b[1;34m()\u001b[0m\n",
      "\u001b[1;32mpandas\\_libs\\hashtable_class_helper.pxi\u001b[0m in \u001b[0;36mpandas._libs.hashtable.PyObjectHashTable.get_item\u001b[1;34m()\u001b[0m\n",
      "\u001b[1;31mKeyError\u001b[0m: 'chunk_tokens'",
      "\nThe above exception was the direct cause of the following exception:\n",
      "\u001b[1;31mKeyError\u001b[0m                                  Traceback (most recent call last)",
      "\u001b[1;32m~\\AppData\\Local\\Temp\\ipykernel_17976\\1122128052.py\u001b[0m in \u001b[0;36m<module>\u001b[1;34m\u001b[0m\n\u001b[0;32m      1\u001b[0m \u001b[0mall_chunks\u001b[0m \u001b[1;33m=\u001b[0m \u001b[1;33m[\u001b[0m\u001b[1;33m]\u001b[0m\u001b[1;33m\u001b[0m\u001b[1;33m\u001b[0m\u001b[0m\n\u001b[1;32m----> 2\u001b[1;33m \u001b[1;32mfor\u001b[0m \u001b[0mrow\u001b[0m \u001b[1;32min\u001b[0m \u001b[0mdf\u001b[0m\u001b[1;33m[\u001b[0m\u001b[1;34m'chunk_tokens'\u001b[0m\u001b[1;33m]\u001b[0m\u001b[1;33m:\u001b[0m\u001b[1;33m\u001b[0m\u001b[1;33m\u001b[0m\u001b[0m\n\u001b[0m\u001b[0;32m      3\u001b[0m     \u001b[0mall_chunks\u001b[0m \u001b[1;33m+=\u001b[0m \u001b[0mrow\u001b[0m\u001b[1;33m\u001b[0m\u001b[1;33m\u001b[0m\u001b[0m\n\u001b[0;32m      4\u001b[0m \u001b[0mfreq\u001b[0m \u001b[1;33m=\u001b[0m \u001b[0mnltk\u001b[0m\u001b[1;33m.\u001b[0m\u001b[0mFreqDist\u001b[0m\u001b[1;33m(\u001b[0m\u001b[0mall_chunks\u001b[0m\u001b[1;33m)\u001b[0m\u001b[1;33m\u001b[0m\u001b[1;33m\u001b[0m\u001b[0m\n\u001b[0;32m      5\u001b[0m \u001b[0mfreq\u001b[0m\u001b[1;33m.\u001b[0m\u001b[0mplot\u001b[0m\u001b[1;33m(\u001b[0m\u001b[1;36m30\u001b[0m\u001b[1;33m)\u001b[0m\u001b[1;33m\u001b[0m\u001b[1;33m\u001b[0m\u001b[0m\n",
      "\u001b[1;32mc:\\Users\\Clar\\anaconda3\\envs\\canvas_data\\lib\\site-packages\\pandas\\core\\frame.py\u001b[0m in \u001b[0;36m__getitem__\u001b[1;34m(self, key)\u001b[0m\n\u001b[0;32m   3803\u001b[0m             \u001b[1;32mif\u001b[0m \u001b[0mself\u001b[0m\u001b[1;33m.\u001b[0m\u001b[0mcolumns\u001b[0m\u001b[1;33m.\u001b[0m\u001b[0mnlevels\u001b[0m \u001b[1;33m>\u001b[0m \u001b[1;36m1\u001b[0m\u001b[1;33m:\u001b[0m\u001b[1;33m\u001b[0m\u001b[1;33m\u001b[0m\u001b[0m\n\u001b[0;32m   3804\u001b[0m                 \u001b[1;32mreturn\u001b[0m \u001b[0mself\u001b[0m\u001b[1;33m.\u001b[0m\u001b[0m_getitem_multilevel\u001b[0m\u001b[1;33m(\u001b[0m\u001b[0mkey\u001b[0m\u001b[1;33m)\u001b[0m\u001b[1;33m\u001b[0m\u001b[1;33m\u001b[0m\u001b[0m\n\u001b[1;32m-> 3805\u001b[1;33m             \u001b[0mindexer\u001b[0m \u001b[1;33m=\u001b[0m \u001b[0mself\u001b[0m\u001b[1;33m.\u001b[0m\u001b[0mcolumns\u001b[0m\u001b[1;33m.\u001b[0m\u001b[0mget_loc\u001b[0m\u001b[1;33m(\u001b[0m\u001b[0mkey\u001b[0m\u001b[1;33m)\u001b[0m\u001b[1;33m\u001b[0m\u001b[1;33m\u001b[0m\u001b[0m\n\u001b[0m\u001b[0;32m   3806\u001b[0m             \u001b[1;32mif\u001b[0m \u001b[0mis_integer\u001b[0m\u001b[1;33m(\u001b[0m\u001b[0mindexer\u001b[0m\u001b[1;33m)\u001b[0m\u001b[1;33m:\u001b[0m\u001b[1;33m\u001b[0m\u001b[1;33m\u001b[0m\u001b[0m\n\u001b[0;32m   3807\u001b[0m                 \u001b[0mindexer\u001b[0m \u001b[1;33m=\u001b[0m \u001b[1;33m[\u001b[0m\u001b[0mindexer\u001b[0m\u001b[1;33m]\u001b[0m\u001b[1;33m\u001b[0m\u001b[1;33m\u001b[0m\u001b[0m\n",
      "\u001b[1;32mc:\\Users\\Clar\\anaconda3\\envs\\canvas_data\\lib\\site-packages\\pandas\\core\\indexes\\base.py\u001b[0m in \u001b[0;36mget_loc\u001b[1;34m(self, key, method, tolerance)\u001b[0m\n\u001b[0;32m   3803\u001b[0m                 \u001b[1;32mreturn\u001b[0m \u001b[0mself\u001b[0m\u001b[1;33m.\u001b[0m\u001b[0m_engine\u001b[0m\u001b[1;33m.\u001b[0m\u001b[0mget_loc\u001b[0m\u001b[1;33m(\u001b[0m\u001b[0mcasted_key\u001b[0m\u001b[1;33m)\u001b[0m\u001b[1;33m\u001b[0m\u001b[1;33m\u001b[0m\u001b[0m\n\u001b[0;32m   3804\u001b[0m             \u001b[1;32mexcept\u001b[0m \u001b[0mKeyError\u001b[0m \u001b[1;32mas\u001b[0m \u001b[0merr\u001b[0m\u001b[1;33m:\u001b[0m\u001b[1;33m\u001b[0m\u001b[1;33m\u001b[0m\u001b[0m\n\u001b[1;32m-> 3805\u001b[1;33m                 \u001b[1;32mraise\u001b[0m \u001b[0mKeyError\u001b[0m\u001b[1;33m(\u001b[0m\u001b[0mkey\u001b[0m\u001b[1;33m)\u001b[0m \u001b[1;32mfrom\u001b[0m \u001b[0merr\u001b[0m\u001b[1;33m\u001b[0m\u001b[1;33m\u001b[0m\u001b[0m\n\u001b[0m\u001b[0;32m   3806\u001b[0m             \u001b[1;32mexcept\u001b[0m \u001b[0mTypeError\u001b[0m\u001b[1;33m:\u001b[0m\u001b[1;33m\u001b[0m\u001b[1;33m\u001b[0m\u001b[0m\n\u001b[0;32m   3807\u001b[0m                 \u001b[1;31m# If we have a listlike key, _check_indexing_error will raise\u001b[0m\u001b[1;33m\u001b[0m\u001b[1;33m\u001b[0m\u001b[0m\n",
      "\u001b[1;31mKeyError\u001b[0m: 'chunk_tokens'"
     ]
    }
   ],
   "source": [
    "all_chunks = []\n",
    "for row in df['chunk_tokens']:\n",
    "    all_chunks += row\n",
    "freq = nltk.FreqDist(all_chunks)\n",
    "freq.plot(30)"
   ]
  }
 ],
 "metadata": {
  "kernelspec": {
   "display_name": "canvas_data",
   "language": "python",
   "name": "python3"
  },
  "language_info": {
   "codemirror_mode": {
    "name": "ipython",
    "version": 3
   },
   "file_extension": ".py",
   "mimetype": "text/x-python",
   "name": "python",
   "nbconvert_exporter": "python",
   "pygments_lexer": "ipython3",
   "version": "3.10.9"
  },
  "orig_nbformat": 4
 },
 "nbformat": 4,
 "nbformat_minor": 2
}
